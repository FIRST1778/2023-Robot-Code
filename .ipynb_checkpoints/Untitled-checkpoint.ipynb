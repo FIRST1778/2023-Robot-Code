{
 "cells": [
  {
   "cell_type": "code",
   "execution_count": null,
   "id": "7f27d6c2",
   "metadata": {},
   "outputs": [],
   "source": [
    "import math\n",
    "import csv\n",
    "from matplotlib import pyplot as plt\n",
    "\n",
    "def plot_position(ts, xs, label):\n",
    "    plt.plot(ts, xs)\n",
    "    plt.xlabel(\"time (s)\")\n",
    "    plt.ylabel(label)\n",
    "    plt.show()\n",
    "\n",
    "with open('logs.csv') as f:\n",
    "    r = csv.reader(f)\n",
    "    rows = [row for row in r];\n",
    "#print (rows)\n",
    "logged_times = [float(row[0]) for row in rows[1:-1]]\n",
    "logged_velocities = [float(row[1]) for row in rows[1:-1]]\n",
    "logged_thetas = [float(row[2]) for row in rows[1:-1]]\n",
    "logged_currents = [float(row[4]) for row in rows[1:-1]]\n",
    "\n",
    "plot_position(times, thetas, \"joint angle (deg)\")\n",
    "plot_position(logged_times, logged_thetas, \"joint angle (logged) (deg)\")\n",
    "\n",
    "plot_position(times, velocities, \"motor velocity (deg)\")\n",
    "plot_position(logged_times, logged_velocities, \"motor velocity (logged) (deg)\")\n",
    "\n",
    "\n",
    "#plot_position(times, currents, \"current\")\n",
    "#plot_position(logged_times, logged_currents, \"current (logged)\")\n",
    "\n"
   ]
  },
  {
   "cell_type": "code",
   "execution_count": null,
   "id": "cbfc3a91",
   "metadata": {},
   "outputs": [],
   "source": []
  }
 ],
 "metadata": {
  "kernelspec": {
   "display_name": "Python 3 (ipykernel)",
   "language": "python",
   "name": "python3"
  },
  "language_info": {
   "codemirror_mode": {
    "name": "ipython",
    "version": 3
   },
   "file_extension": ".py",
   "mimetype": "text/x-python",
   "name": "python",
   "nbconvert_exporter": "python",
   "pygments_lexer": "ipython3",
   "version": "3.11.2"
  }
 },
 "nbformat": 4,
 "nbformat_minor": 5
}
